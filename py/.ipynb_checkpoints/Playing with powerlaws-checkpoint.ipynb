{
 "cells": [
  {
   "cell_type": "markdown",
   "metadata": {},
   "source": [
    "###Playing with powerlaws\n",
    "\n",
    "In this notebook I will investigate something discovered while constructing a composite from quasar spectra. \n",
    "\n",
    "When constructing the composite I need to normalise the constituent spectra, since intrinsically they have different luminosities and therefore at their fluxes are at different scales. Due to the varying slopes of the constituent spectra I need to chose a wavelenght at which to normalise. I had initially chosen redwards of the $H\\alpha$-line, because this is the region in which in intrinsic variability of quasars should be smallest. Thereby the reported standard deviation should mostly reflect the spectrum-to-spectrum variability. \n",
    "####Vanden Berk writes: \n",
    "*While constructing the median composite, the flux levels of overlapping spectra were scaled so that the integrated flux densities were the same. Thus, we expect the variation in the continuum flux density across the spectrum to reflect the spectrum-to-spectrum differences caused by differing continuum shapes and emission-line fluxes and profiles*\n",
    "\n",
    "So.. It sound a bit as if, we have different opinions about what best reflects the \"true\" variability between quasars. I decided to investigate what effect the chosen normalisation region have on my final composite, by using different normalisation regions. I find the following, where the labels in the upper right corner give the region normalised after:\n",
    "\n",
    "<img src=\"johan_test.pdf\" width=900 height=500>\n",
    "\n",
    "The different scales are due to the different values of the regions normalised to. If you rescale these spectra (and change the weighted mean with the geometric mean) you get:\n",
    "\n",
    "<img src=\"geo_mean.pdf\" width=900 height=500>\n",
    "\n",
    "Clearly there is a change in slope, with composites normalised to the blue region are shallower than composites normalised in the red region. I think, that this is a nummeric consequence of combining powerlaws, so here we are going to reproduce the problem encountered. "
   ]
  },
  {
   "cell_type": "code",
   "execution_count": 1,
   "metadata": {
    "collapsed": true
   },
   "outputs": [],
   "source": [
    "# Setup plotting environment\n",
    "%matplotlib inline\n",
    "import matplotlib.pyplot as plt\n",
    "# use seaborn for nice default plot settings\n",
    "import seaborn; seaborn.set_style('ticks')"
   ]
  },
  {
   "cell_type": "code",
   "execution_count": 3,
   "metadata": {
    "collapsed": true
   },
   "outputs": [],
   "source": [
    "# Importing manupulation packages\n",
    "import numpy as np\n",
    "\n",
    "# Reproducible results\n",
    "np.random.seed(12345)\n",
    "import scipy.stats as stat\n"
   ]
  },
  {
   "cell_type": "code",
   "execution_count": null,
   "metadata": {
    "collapsed": true
   },
   "outputs": [],
   "source": [
    "# Generating fake data\n",
    "\n",
    "def generate_data(params, N, rng=(1000, 10000)):\n",
    "    \n",
    "    t = rng[0] + np.diff(rng) * np.sort(np.random.rand(N))\n",
    "    y = gp.sample(t)\n",
    "    y += model(params, t)\n",
    "    yerr = 0.05 + 0.05 * np.random.rand(N)\n",
    "    y += yerr * np.random.randn(N)\n",
    "    return t, y, yerr"
   ]
  }
 ],
 "metadata": {
  "kernelspec": {
   "display_name": "Python 2",
   "language": "python",
   "name": "python2"
  },
  "language_info": {
   "codemirror_mode": {
    "name": "ipython",
    "version": 2
   },
   "file_extension": ".py",
   "mimetype": "text/x-python",
   "name": "python",
   "nbconvert_exporter": "python",
   "pygments_lexer": "ipython2",
   "version": "2.7.9"
  }
 },
 "nbformat": 4,
 "nbformat_minor": 0
}
